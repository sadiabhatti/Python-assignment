{
 "cells": [
  {
   "cell_type": "code",
   "execution_count": 1,
   "metadata": {},
   "outputs": [
    {
     "name": "stdout",
     "output_type": "stream",
     "text": [
      "Factorial of given number is:  24\n"
     ]
    }
   ],
   "source": [
    "#Q1\n",
    "def factorial(a):\n",
    "    if a == 0:\n",
    "        return 1\n",
    "    else:\n",
    "        return a * factorial(a - 1)\n",
    "\n",
    "fact = factorial(4) \n",
    "print(\"Factorial of given number is: \", fact\n",
    "     )"
   ]
  },
  {
   "cell_type": "code",
   "execution_count": 2,
   "metadata": {},
   "outputs": [
    {
     "name": "stdout",
     "output_type": "stream",
     "text": [
      "Enter String to Check the  No. of upper and lower case letters: Sadia Bhatti\n",
      "Original String :  Sadia Bhatti\n",
      "No Up Case :  2\n",
      "No low Case :  9\n"
     ]
    }
   ],
   "source": [
    "#Q2\n",
    "def str_test(s):\n",
    "    d = {\"UP\" : 0, \"LOW\" : 0}\n",
    "    for b in s:\n",
    "        if b.isupper():\n",
    "            d[\"UP\"]+=1\n",
    "        elif b.islower():\n",
    "            d[\"LOW\"]+=1\n",
    "        else:\n",
    "            pass\n",
    "    print(\"Original String : \", s)\n",
    "    print(\"No Up Case : \", d[\"UP\"])\n",
    "    print(\"No low Case : \", d[\"LOW\"])\n",
    "Ostr = str(input(\"Enter String to Check the  No. of upper and lower case letters: \")) \n",
    "str_test(Ostr)\n",
    "    "
   ]
  },
  {
   "cell_type": "code",
   "execution_count": 3,
   "metadata": {},
   "outputs": [
    {
     "name": "stdout",
     "output_type": "stream",
     "text": [
      "2\n",
      "4\n",
      "6\n",
      "8\n",
      "10\n",
      "12\n",
      "14\n"
     ]
    }
   ],
   "source": [
    "#Q3\n",
    "nolist = [1,2,3,4,5,6,7,8,9,10,11,12,13,14,15]\n",
    "\n",
    "\n",
    "def enum(num):\n",
    "    for lst in num:\n",
    "        if lst%2 == 0:\n",
    "            print(lst)\n",
    "        else:\n",
    "            pass\n",
    "\n",
    "enum(nolist)"
   ]
  },
  {
   "cell_type": "code",
   "execution_count": 4,
   "metadata": {},
   "outputs": [
    {
     "name": "stdout",
     "output_type": "stream",
     "text": [
      "Write a word to Check whether the word is Palindrome or not: Madam\n",
      "The word is a Palindrome.\n"
     ]
    }
   ],
   "source": [
    "#Q4\n",
    "def check_pal(word):\n",
    "    word = word.casefold()\n",
    "    rev_word = reversed(word)\n",
    "    \n",
    "    if list(word) == list(rev_word):\n",
    "        print(\"The word is a Palindrome.\")\n",
    "    else:\n",
    "        print(\"The word is not a Palindrome.\")\n",
    "\n",
    "gword = str(input(\"Write a word to Check whether the word is Palindrome or not: \"))\n",
    "check_pal(gword)"
   ]
  },
  {
   "cell_type": "code",
   "execution_count": 5,
   "metadata": {},
   "outputs": [
    {
     "name": "stdout",
     "output_type": "stream",
     "text": [
      "Enter a number to Check whether the number is prime or not: 11\n",
      "11  is a Prime Number\n"
     ]
    }
   ],
   "source": [
    "#Q5\n",
    "def check_prime(pnum):\n",
    "    if pnum > 1:\n",
    "        for p in range(2, pnum): \n",
    "            if pnum % p == 0:\n",
    "                print(pnum, \" is not a Prime Number\")\n",
    "                print(p,\"x\",pnum//p, \" = \",pnum)\n",
    "                break\n",
    "            else:\n",
    "                print(pnum, \" is a Prime Number\")\n",
    "                break\n",
    "                \n",
    "    else:\n",
    "        print(pnum, \" is not a Prime Number\")\n",
    "        \n",
    "chnum = int(input(\"Enter a number to Check whether the number is prime or not: \"))\n",
    "check_prime(chnum)"
   ]
  },
  {
   "cell_type": "code",
   "execution_count": 6,
   "metadata": {},
   "outputs": [
    {
     "name": "stdout",
     "output_type": "stream",
     "text": [
      "My Shopping Items are:\n",
      "Purse\n",
      "Shoes\n",
      "Watch\n",
      "Kurti\n",
      "Perfume\n"
     ]
    }
   ],
   "source": [
    "#Q6\n",
    "def shopmall(*shopitems):\n",
    "    print(\"My Shopping Items are:\")\n",
    "    \n",
    "    for shoping in shopitems:\n",
    "        print(shoping)\n",
    "        \n",
    "shopmall(\"Purse\", \"Shoes\", \"Watch\", \"Kurti\", \"Perfume\")"
   ]
  },
  {
   "cell_type": "code",
   "execution_count": null,
   "metadata": {},
   "outputs": [],
   "source": []
  }
 ],
 "metadata": {
  "kernelspec": {
   "display_name": "Python 3",
   "language": "python",
   "name": "python3"
  },
  "language_info": {
   "codemirror_mode": {
    "name": "ipython",
    "version": 3
   },
   "file_extension": ".py",
   "mimetype": "text/x-python",
   "name": "python",
   "nbconvert_exporter": "python",
   "pygments_lexer": "ipython3",
   "version": "3.7.4"
  }
 },
 "nbformat": 4,
 "nbformat_minor": 2
}
