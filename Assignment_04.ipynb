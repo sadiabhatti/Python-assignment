{
 "cells": [
  {
   "cell_type": "code",
   "execution_count": 1,
   "metadata": {},
   "outputs": [
    {
     "name": "stdout",
     "output_type": "stream",
     "text": [
      "Friend's First Name: SADIA\n",
      "Friend's Last Name: BHATTI\n",
      "Friend's Age: 21\n",
      "Friend's City: HYDERABAD\n",
      "\n",
      " {'First Name': 'SADIA', 'Last Name': 'BHATTI', 'Age': 21, 'City': 'HYDERABAD'} \n",
      "\n",
      "{'First Name': 'SADIA', 'Last Name': 'BHATTI', 'Age': 21, 'City': 'HYDERABAD', 'Qualification': 'Undergraduate'} \n",
      "\n",
      "{'First Name': 'SADIA', 'Last Name': 'BHATTI', 'Age': 21, 'City': 'HYDERABAD', 'Qualification': 'Post-Graduate'} \n",
      "\n",
      "{'First Name': 'SADIA', 'Last Name': 'BHATTI', 'Age': 21, 'City': 'HYDERABAD'}\n"
     ]
    }
   ],
   "source": [
    "#QUESTION-01\n",
    "person = {\n",
    "        \"First Name\" : \"SADIA\",\n",
    "        \"Last Name\" : \"BHATTI\",\n",
    "        \"Age\" : 21,\n",
    "        \"City\" : \"HYDERABAD\"\n",
    "}\n",
    "for key, value in person.items():\n",
    "    print(\"Friend's \" + key + \": \" + str(value)) \n",
    "print(\"\\n\",person,\"\\n\")\n",
    "\n",
    "person[\"Qualification\"] = \"Undergraduate\"\n",
    "print(person,\"\\n\")\n",
    "\n",
    "\n",
    "person[\"Qualification\"] = \"Post-Graduate\"\n",
    "print(person,\"\\n\")\n",
    "\n",
    "del person[\"Qualification\"]\n",
    "print(person)"
   ]
  },
  {
   "cell_type": "code",
   "execution_count": 2,
   "metadata": {},
   "outputs": [
    {
     "name": "stdout",
     "output_type": "stream",
     "text": [
      "City Name:  Karachi \n",
      "\n",
      "Country of Karachi: Pakistan\n",
      "Population of Karachi: 14.91 million\n",
      "Fact of Karachi: It is one of the most densely populated cities in the world with a diverse and multicultural population drawn to the opportunities for employment and business \n",
      "\n",
      "\n",
      "City Name:  Dhaka \n",
      "\n",
      "Country of Dhaka: Bangladesh\n",
      "Population of Dhaka: 8.906 million\n",
      "Fact of Dhaka: It is worst known for traffic. \n",
      "\n",
      "\n",
      "City Name:  Mumbai \n",
      "\n",
      "Country of Mumbai: India\n",
      "Population of Mumbai: 18.41 million\n",
      "Fact of Mumbai: Mumbai was the first one to start a bus service in India \n",
      "\n",
      "\n"
     ]
    }
   ],
   "source": [
    "#QUESTION-02\n",
    "\n",
    "cities = {\n",
    "    \"Karachi\" : {\n",
    "        \n",
    "        \"Country\" : \"Pakistan\",\n",
    "        \"Population\" : \"14.91 million\",\n",
    "        \"Fact\" : \"It is one of the most densely populated cities in the world with a diverse and multicultural population drawn to the opportunities for employment and business \"\n",
    "        \n",
    "        },\n",
    "    \"Dhaka\" : {\n",
    "            \n",
    "        \"Country\" : \"Bangladesh\",\n",
    "        \"Population\" : \"8.906 million\",\n",
    "        \"Fact\" : \"It is worst known for traffic. \"\n",
    "        \n",
    "        },\n",
    "    \"Mumbai\" : {\n",
    "            \n",
    "        \"Country\" : \"India\",\n",
    "        \"Population\" : \"18.41 million\",\n",
    "        \"Fact\" : \"Mumbai was the first one to start a bus service in India \"\n",
    "        \n",
    "        }\n",
    "}\n",
    "for key in cities.keys():\n",
    "    print(\"City Name: \",key,\"\\n\")\n",
    "    \n",
    "    for ekey,evalue in cities[key].items():\n",
    "        print(ekey+\" of \"+key+\": \"+evalue)\n",
    "    print(\"\\n\")\n",
    "    "
   ]
  },
  {
   "cell_type": "code",
   "execution_count": 3,
   "metadata": {},
   "outputs": [
    {
     "name": "stdout",
     "output_type": "stream",
     "text": [
      "Enter Your Age 21\n",
      "Your ticket charges are $15.\n"
     ]
    }
   ],
   "source": [
    "#QUESTION-03\n",
    "Age = 0,\n",
    "\n",
    "for a in Age:\n",
    "    a = int(input(\"Enter Your Age \"))\n",
    "\n",
    "    if a <= 3 :\n",
    "        print(\"The ticket is free for you.\")\n",
    "\n",
    "    elif a > 3 and a <= 12 :\n",
    "        print(\"Your ticket charges are $10.\")\n",
    "\n",
    "    elif a >12 :\n",
    "        print(\"Your ticket charges are $15.\")\n",
    "        \n",
    "    else:\n",
    "        print (\"Sorry ,you are not allowed\")"
   ]
  },
  {
   "cell_type": "code",
   "execution_count": 5,
   "metadata": {},
   "outputs": [
    {
     "name": "stdout",
     "output_type": "stream",
     "text": [
      "One of my favorite books is: A Smarter Way to Learn Python by Mark Myers.\n"
     ]
    }
   ],
   "source": [
    "#QUESTION-04\n",
    "def favorate_book(title):\n",
    "    title1 = \"One of my favorite books is: \"\n",
    "    total = title1 + title\n",
    "    print(total)\n",
    "\n",
    "favorate_book(\"A Smarter Way to Learn Python by Mark Myers.\")"
   ]
  },
  {
   "cell_type": "code",
   "execution_count": 6,
   "metadata": {},
   "outputs": [
    {
     "name": "stdout",
     "output_type": "stream",
     "text": [
      "You have three chances to guess the number generated by computer between 1 to 30 \n",
      "\n",
      "Guess the Number 5\n",
      "\n",
      "Given number is less than the hidden number.\n",
      "1st guess  is over\n",
      "\n",
      "Guess the Number 10\n",
      "\n",
      "Given number is greater than the hidden number.\n",
      "2nd guess is over\n",
      "\n",
      "Guess the Number 8\n",
      "\n",
      "You have done this it 3rd guess\n",
      "Congratulations, Your guess is correct.\n",
      "Yeah You Won \n",
      "\n"
     ]
    }
   ],
   "source": [
    "#QUESTION-05\n",
    "\n",
    "import random\n",
    "num = random.randrange(1,30)\n",
    "chances = [\"1st guess \",\"2nd guess\",\"3rd guess\"]\n",
    "\n",
    "print(\"You have three chances to guess the number generated by computer between 1 to 30 \\n\")\n",
    "\n",
    "for a in chances:\n",
    "   \n",
    "    gnum = int(input(\"Guess the Number \"))\n",
    "    \n",
    "    if num != gnum:\n",
    "        if num > gnum:\n",
    "            print(\"\\nGiven number is less than the hidden number.\")\n",
    "            print(a, \"is over\\n\")\n",
    "        if num < gnum:\n",
    "            print(\"\\nGiven number is greater than the hidden number.\")\n",
    "            print(a, \"is over\\n\")\n",
    "if num == gnum:\n",
    "        print(\"\\nYou have done this it\",a)\n",
    "        print(\"Congratulations, Your guess is correct.\")\n",
    "        print(\"Yeah You Won \\n\")\n",
    "if num != gnum:      \n",
    "    print(\"\\nYou Lost, no more chances left\\nHidden number is \",num)\n"
   ]
  },
  {
   "cell_type": "code",
   "execution_count": null,
   "metadata": {},
   "outputs": [],
   "source": []
  }
 ],
 "metadata": {
  "kernelspec": {
   "display_name": "Python 3",
   "language": "python",
   "name": "python3"
  },
  "language_info": {
   "codemirror_mode": {
    "name": "ipython",
    "version": 3
   },
   "file_extension": ".py",
   "mimetype": "text/x-python",
   "name": "python",
   "nbconvert_exporter": "python",
   "pygments_lexer": "ipython3",
   "version": "3.7.4"
  }
 },
 "nbformat": 4,
 "nbformat_minor": 2
}
